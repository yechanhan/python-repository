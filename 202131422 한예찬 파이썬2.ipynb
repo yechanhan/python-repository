{
 "cells": [
  {
   "cell_type": "code",
   "execution_count": null,
   "metadata": {},
   "outputs": [],
   "source": [
    "data = input('1회차/2회차/3회차/4회차/5회차/6회차/7회차/8회차/9회차/10회차/11회차/12회차/13회차/14회차/15회차 점수를 입력해주세요.')\n",
    "\n",
    "mid=int(input('중간고사 성적은?'))\n",
    "fin=int(input('기말고사 성적은?'))\n",
    "\n",
    "\n",
    "print(data.split())\n",
    "a1, a2, a3, a4, a5, a6, a7, a8, a9, a10, a11, a12, a13 ,a14, a15 = map(int,data.split())\n",
    "\n",
    "\n",
    "\n",
    "sum_s=a1+a2+a3+a4+a5+a6+a7+a8+a9+a10+a11+a12+a13+a14+a15 #합계 \n",
    "avg = sum_s/15     #평균=합계/15\n",
    "\n",
    "avv = avg * 0.4    #비중 40%\n",
    "bb = mid * 0.3     #비중 30%\n",
    "cc = fin * 0.3     #비중 30%\n",
    "\n",
    "score = avv + bb + cc\n",
    "if 100 >= score >= 90:\n",
    "    grade = \"A\"\n",
    "elif 90 > score >= 80:\n",
    "    grade = \"B\"\n",
    "elif 80 > score >= 70:\n",
    "    grade = \"C\"\n",
    "elif 70 > score >= 60:\n",
    "    grade = \"D\"\n",
    "elif score < 60:\n",
    "    grade = \"F\"\n",
    "\n",
    "\n",
    "\n",
    "\n",
    "\n",
    "print(' %3d | %3d | %3d | %3d | %3d | %3d | %3d | %3d | %3d | %3d | %3d | %3d | %3d | %3d | %3d | %3d | 평균값  %6.2f | 비중  %6.2f |'\n",
    "      %(a1,a2,a3,a4,a5,a6,a7,a8,a9,a10,a11,a12,a13,a14,a15,sum_s, avg,avv))\n",
    "\n",
    "\n",
    "print('과제 평균(40%)' ,avv, '중간 평균(30%)' , bb, '중간 평균(30%)' , cc,  '총합 :',avv+bb+cc)\n",
    "\n",
    "print(\"등급은\" + grade + \"입니다.\")"
   ]
  }
 ],
 "metadata": {
  "kernelspec": {
   "display_name": "Python 3",
   "language": "python",
   "name": "python3"
  },
  "language_info": {
   "codemirror_mode": {
    "name": "ipython",
    "version": 3
   },
   "file_extension": ".py",
   "mimetype": "text/x-python",
   "name": "python",
   "nbconvert_exporter": "python",
   "pygments_lexer": "ipython3",
   "version": "3.8.5"
  }
 },
 "nbformat": 4,
 "nbformat_minor": 4
}
